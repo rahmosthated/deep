{
  "nbformat": 4,
  "nbformat_minor": 0,
  "metadata": {
    "colab": {
      "provenance": [],
      "authorship_tag": "ABX9TyM6HtEne6i8M7CP7dLpXPFQ",
      "include_colab_link": true
    },
    "kernelspec": {
      "name": "python3",
      "display_name": "Python 3"
    },
    "language_info": {
      "name": "python"
    }
  },
  "cells": [
    {
      "cell_type": "markdown",
      "metadata": {
        "id": "view-in-github",
        "colab_type": "text"
      },
      "source": [
        "<a href=\"https://colab.research.google.com/github/rahmosthated/deep/blob/main/Untitled41.ipynb\" target=\"_parent\"><img src=\"https://colab.research.google.com/assets/colab-badge.svg\" alt=\"Open In Colab\"/></a>"
      ]
    },
    {
      "cell_type": "code",
      "execution_count": null,
      "metadata": {
        "id": "ewGAPtMCO9y1"
      },
      "outputs": [],
      "source": [
        "# ----------------------------\n",
        "# Import Libraries\n",
        "# ----------------------------\n",
        "import numpy as np\n",
        "import pandas as pd\n",
        "import matplotlib.pyplot as plt\n",
        "from sklearn.model_selection import train_test_split\n",
        "from sklearn.preprocessing import StandardScaler\n",
        "import tensorflow as tf\n",
        "from tensorflow.keras.models import Sequential\n",
        "from tensorflow.keras.layers import Dense\n",
        "\n",
        "# ----------------------------\n",
        "# Load Dataset\n",
        "# ----------------------------\n",
        "# Toy housing dataset (1970s)\n",
        "data = pd.DataFrame({\n",
        "    \"sqft\": [1500, 1800, 2400, 3000, 3500],\n",
        "    \"price\": [7.2, 8.1, 10.5, 12.3, 13.5]  # in $1000s\n",
        "})\n",
        "\n",
        "X = data[[\"sqft\"]].values\n",
        "y = data[[\"price\"]].values\n",
        "\n",
        "# Train-test split\n",
        "X_train, X_test, y_train, y_test = train_test_split(X, y, test_size=0.2, random_state=42)\n",
        "\n",
        "# Feature scaling (important for neural networks)\n",
        "scaler_X = StandardScaler()\n",
        "scaler_y = StandardScaler()\n",
        "\n",
        "X_train_scaled = scaler_X.fit_transform(X_train)\n",
        "X_test_scaled = scaler_X.transform(X_test)\n",
        "y_train_scaled = scaler_y.fit_transform(y_train)\n",
        "y_test_scaled = scaler_y.transform(y_test)\n",
        "\n",
        "# ----------------------------\n",
        "# Handle the Algorithm (Neural Network)\n",
        "# ----------------------------\n",
        "model = Sequential([\n",
        "    Dense(10, input_dim=1, activation=\"relu\"),\n",
        "    Dense(10, activation=\"relu\"),\n",
        "    Dense(1, activation=\"linear\")\n",
        "])\n",
        "\n",
        "model.compile(optimizer=\"adam\", loss=\"mse\")\n",
        "\n",
        "# Train the model\n",
        "history = model.fit(X_train_scaled, y_train_scaled, epochs=200, verbose=0)\n",
        "\n",
        "# Make predictions\n",
        "pred_scaled = model.predict(X_test_scaled)\n",
        "pred = scaler_y.inverse_transform(pred_scaled)\n",
        "\n",
        "# ----------------------------\n",
        "# View Prediction Results\n",
        "# ----------------------------\n",
        "pred = pred[:, 0]   # ensure shape is correct\n",
        "y_test_flat = y_test[:, 0]\n",
        "\n",
        "print(\"Predicted values:\", pred)\n",
        "print(\"Actual values:\", y_test_flat)\n",
        "\n",
        "# Plot results\n",
        "plt.scatter(X_test, y_test_flat, color=\"blue\", label=\"Actual\")\n",
        "plt.scatter(X_test, pred, color=\"red\", label=\"Predicted\")\n",
        "plt.xlabel(\"Square Footage\")\n",
        "plt.ylabel(\"Price (in $1000s)\")\n",
        "plt.title(\"House Price Prediction (Neural Network)\")\n",
        "plt.legend()\n",
        "plt.show()\n"
      ]
    },
    {
      "cell_type": "markdown",
      "source": [
        "In the modified template code, we replaced the linear regression model with a simple neural network built using TensorFlow and Keras. The dataset is the same toy housing dataset from the 1970s, where home prices are given in thousands of dollars. After splitting the data into training and testing sets, we scaled both the input features and target values, which is important when training neural networks. The new model consists of two hidden layers with ReLU activation functions and a final output layer with a linear activation to predict house prices. We trained the model using the Adam optimizer and mean squared error loss. Once the network was trained, we made predictions on the test set and then applied an inverse transformation to bring the predictions back to the original scale of the target variable. At the top of the “View Prediction Results” section, we included the line pred = pred[:, 0] to ensure the predictions are in the correct shape for comparison with the actual values. Finally, we compared the predicted prices against the actual prices and plotted the results for visualization."
      ],
      "metadata": {
        "id": "KpuTEY_IPDjZ"
      }
    }
  ]
}